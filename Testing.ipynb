{
  "nbformat": 4,
  "nbformat_minor": 0,
  "metadata": {
    "colab": {
      "provenance": []
    },
    "kernelspec": {
      "name": "python3",
      "display_name": "Python 3"
    },
    "language_info": {
      "name": "python"
    }
  },
  "cells": [
    {
      "cell_type": "code",
      "execution_count": null,
      "metadata": {
        "id": "mz8ziim9m_zR"
      },
      "outputs": [],
      "source": [
        "# prompt: write the code to use a stable diffusion model from hugging gace\n",
        "!pip install diffusers==0.8.0\n",
        "!pip install transformers\n",
        "!pip install accelerate\n",
        "import torch\n",
        "import diffusers"
      ]
    },
    {
      "cell_type": "code",
      "source": [
        "!pip install huggingface-cli\n",
        "!huggingface-cli login"
      ],
      "metadata": {
        "id": "q8t01w2dqChp"
      },
      "execution_count": null,
      "outputs": []
    },
    {
      "cell_type": "code",
      "source": [
        "model_id = ,
        "from diffusers import DiffusionPipeline\n",
        "pipeline = DiffusionPipeline.from_pretrained("")"
      ],
      "metadata": {
        "id": "tJFJ09HpqF_K"
      },
      "execution_count": null,
      "outputs": []
    },
    {
      "cell_type": "code",
      "source": [
        "image = pipeline(\"cream red kanchivaram silk saree\").images[0]\n",
        "image"
      ],
      "metadata": {
        "id": "f67HlCFNqJYH"
      },
      "execution_count": null,
      "outputs": []
    }
  ]
}
