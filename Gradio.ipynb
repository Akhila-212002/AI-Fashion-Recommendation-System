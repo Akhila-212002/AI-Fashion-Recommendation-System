{
  "nbformat": 4,
  "nbformat_minor": 0,
  "metadata": {
    "colab": {
      "provenance": []
    },
    "kernelspec": {
      "name": "python3",
      "display_name": "Python 3"
    },
    "language_info": {
      "name": "python"
    }
  },
  "cells": [
    {
      "cell_type": "code",
      "execution_count": null,
      "metadata": {
        "id": "1JSbeYxuvPKn"
      },
      "outputs": [],
      "source": [
        "\n",
        "!pip install --upgrade fastapi==0.90.1\n",
        "!pip install diffusers==0.8.0\n",
        "!pip install gradio\n"
      ]
    },
    {
      "cell_type": "code",
      "source": [
        "!pip install accelerate"
      ],
      "metadata": {
        "id": "5pYNr8MevTEU"
      },
      "execution_count": null,
      "outputs": []
    },
    {
      "cell_type": "code",
      "source": [
        "from diffusers import DiffusionPipeline\n",
        "\n",
        "import gradio as gr\n",
        "\n",
        "pipeline = DiffusionPipeline.from_pretrained(\" \")\n",
        "pipe = pipeline.to(\"cuda\")"
      ],
      "metadata": {
        "id": "HBYNHjqBvWCE"
      },
      "execution_count": null,
      "outputs": []
    },
    {
      "cell_type": "code",
      "source": [
        "\n",
        "import torch\n",
        "import random\n",
        "import sys\n",
        "import json\n",
        "import requests\n",
        "import os"
      ],
      "metadata": {
        "id": "TKBRtvBVvYN3"
      },
      "execution_count": null,
      "outputs": []
    },
    {
      "cell_type": "code",
      "source": [
        "\n",
        "def generate_image(prompt, neg_prompt,guidance_scale,num_inference_steps,seed):\n",
        "   # Seed randomizer\n",
        "  if seed == \"\":\n",
        "      seed = random.randint(0, sys.maxsize)\n",
        "  else:\n",
        "    seed=int(seed)\n",
        "  generator = torch.Generator(\"cuda\").manual_seed(seed)\n",
        "\n",
        "  image = pipe(prompt=prompt,negative_prompt=neg_prompt,guidance_scale=10,num_inference_steps=num_inference_steps,height=512, width=512,generator=generator).images[0]\n",
        "  return image\n",
        "\n",
        "image_path = ' '\n",
        "absolute_path = os.path.abspath(image_path)"
      ],
      "metadata": {
        "id": "1GoRiXoDvcQ5"
      },
      "execution_count": null,
      "outputs": []
    },
    {
      "cell_type": "code",
      "source": [
        "negative_prompt=\"bad anatomy, bad hands, three hands, three legs, bad arms, missing legs, missing arms, poorly drawn face, bad face, fused face, cloned face, worst face, three crus, extra crus, fused crus, worst feet, three feet, fused feet, fused thigh, three thigh, fused thigh, extra thigh, worst thigh, missing fingers, extra fingers, ugly fingers, long fingers, horn, extra eyes, huge eyes, 2girl, amputation, disconnected limbs, cartoon, cg, 3d, unreal, animate, NSFW,nude, censored\"\n",
        "prompt = gr.Text(label=\"Prompt\",show_label=True,placeholder=\"Enter your prompt\")\n",
        "neg_prompt= gr.Text(label=\"Negative Prompt\",show_label=True,value=negative_prompt)\n",
        "num_inference_steps = gr.Slider(minimum=1, maximum=100, step=1, value=10, label=\"Steps\")\n",
        "seed = gr.Textbox(label=\"Seed\",placeholder=\"Can be left empty to intialise random seed\")\n",
        "guidance_scale = gr.Slider(minimum=1, maximum=10, step=0.1, value=5, label=\"Guidance Scale\")\n",
        "seed_val=gr.Number(label=\"Seed\")\n",
        "#gr.checkbox(\"Are you ready to proceed further\")"
      ],
      "metadata": {
        "id": "li8vc2Tuvdyp"
      },
      "execution_count": null,
      "outputs": []
    },
    {
      "cell_type": "code",
      "source": [
        "iface = gr.Interface(\n",
        "    fn=generate_image,\n",
        "    inputs=[prompt, neg_prompt,guidance_scale,num_inference_steps,seed],theme='NoCrypt/miku',\n",
        "    outputs=\"image\",\n",
        "    examples = [[\"a beautiful girl in a black lehenga with vshaped neck and puffed sleeves,bad anatomy,55,2333338967,5\"]],\n",
        "    #[a beautiful girl in a pink lehenga with funnel shaped neck and longsleeves,missing legs,65,2343938967,7]],\n",
        "    title=\"Elegance Echo\",\n",
        "    allow_flagging='manual',\n",
        "    css=\".gradio-container {background: url('file=/content/drive/MyDrive/Full images/c19001be3a43f63f0aebf634b63a7326.jpg')}\",\n",
        ")\n"
      ],
      "metadata": {
        "id": "WDHAp738vgGH"
      },
      "execution_count": null,
      "outputs": []
    },
    {
      "cell_type": "code",
      "source": [
        "iface.launch( auth = ('username','password'),allowed_paths=[absolute_path],share=True)"
      ],
      "metadata": {
        "id": "hZb90dgFviMG"
      },
      "execution_count": null,
      "outputs": []
    }
  ]
}